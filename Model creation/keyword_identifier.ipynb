{
 "cells": [
  {
   "cell_type": "code",
   "execution_count": 1,
   "metadata": {},
   "outputs": [
    {
     "name": "stderr",
     "output_type": "stream",
     "text": [
      "c:\\Users\\Siddharths\\miniconda3\\envs\\tf\\lib\\site-packages\\tqdm\\auto.py:21: TqdmWarning: IProgress not found. Please update jupyter and ipywidgets. See https://ipywidgets.readthedocs.io/en/stable/user_install.html\n",
      "  from .autonotebook import tqdm as notebook_tqdm\n",
      "c:\\Users\\Siddharths\\miniconda3\\envs\\tf\\lib\\site-packages\\huggingface_hub\\file_download.py:139: UserWarning: `huggingface_hub` cache-system uses symlinks by default to efficiently store duplicated files but your machine does not support them in C:\\Users\\Siddharths\\.cache\\huggingface\\hub\\models--sentence-transformers--distilbert-base-nli-mean-tokens. Caching files will still work but in a degraded version that might require more space on your disk. This warning can be disabled by setting the `HF_HUB_DISABLE_SYMLINKS_WARNING` environment variable. For more details, see https://huggingface.co/docs/huggingface_hub/how-to-cache#limitations.\n",
      "To support symlinks on Windows, you either need to activate Developer Mode or to run Python as an administrator. In order to activate developer mode, see this article: https://docs.microsoft.com/en-us/windows/apps/get-started/enable-your-device-for-development\n",
      "  warnings.warn(message)\n"
     ]
    },
    {
     "name": "stdout",
     "output_type": "stream",
     "text": [
      "Keywords:\n",
      "('transformers', 0.3629)\n",
      "('trained', 0.2314)\n",
      "('thousands', 0.2114)\n",
      "('architecture', 0.1905)\n",
      "('perform', 0.1793)\n"
     ]
    }
   ],
   "source": [
    "from keybert import KeyBERT\n",
    "\n",
    "# Initialize the KeyBERT model\n",
    "model = KeyBERT('distilbert-base-nli-mean-tokens')\n",
    "\n",
    "# Example text\n",
    "text = \"\"\"\n",
    "         Transformers provides thousands of pre-trained models to perform tasks on texts such as classification, \n",
    "         information extraction, question answering, summarization, translation, text generation, etc. \n",
    "         Each architecture is designed with a specific task in mind.\n",
    "       \"\"\"\n",
    "\n",
    "# Extract keywords\n",
    "keywords = model.extract_keywords(text)\n",
    "\n",
    "# Print the keywords\n",
    "print(\"Keywords:\")\n",
    "for keyword in keywords:\n",
    "    print(keyword)"
   ]
  },
  {
   "cell_type": "code",
   "execution_count": 3,
   "metadata": {},
   "outputs": [
    {
     "name": "stdout",
     "output_type": "stream",
     "text": [
      "Keywords:\n",
      "('startupchief', 0.3712)\n",
      "('scientist', 0.2846)\n",
      "('startup', 0.2673)\n",
      "('django', 0.222)\n",
      "('science', 0.2162)\n"
     ]
    }
   ],
   "source": [
    "text = \"\"\"Full Stack Developer turned Data Science\n",
    "Practitioner. Data-Driven, Passionate Data\n",
    "Scientist and Machine Learning Enthusiast.\n",
    "My passion for uncovering insights and\n",
    "answering complex questions with the help\n",
    "of data has led me to the field of Data\n",
    "Science. Have previous experience of\n",
    "handling and managing IT startup in the\n",
    "service sector. Working experience of 8+\n",
    "years.\n",
    "Education\n",
    "CFILT, IIT, BOMBAY 2016\n",
    "Research Internship: NLP, ML, DL, IR\n",
    "DCST, GOA UNIVERSITY 2014 - 16\n",
    "Master of Technology: Computer Science\n",
    "GOA UNIVERSITY 2010 - 13\n",
    "Bachelor of Engineering: IT\n",
    "BOARD OF TECHNICAL EDU. GOA 2007-10\n",
    "Diploma in Electronics and Communication\n",
    "WORK EXPERIENCE\n",
    "DATA SCIENTIST\n",
    "Technirmiti Softwares Pvt. Ltd.\n",
    "June 2022 - Present\n",
    "PYTHON ENGINEER\n",
    "Technirmiti Softwares Pvt. Ltd.\n",
    "May 2018 - Dec 2021\n",
    "FULL STACK DEVELOPER\n",
    "TechNirmiti Solutions\n",
    "June 2016 - May 2018\n",
    "SKILLS & ABILITIES\n",
    "Data Science, Data Analytics, ML, Data\n",
    "Collection, DL, NLP, Web Development, Python,\n",
    "Django, MERN, VueJs, SQL, MongoDB\n",
    "FRAMEWORKS & LIBRARIES\n",
    "Scikit-Learn, TensorFlow, Keras, Pytorch,\n",
    "NumPy, Pandas, SciPy Seaborn Matplotlib,\n",
    "Streamlit, Gensim, NLTK, SpaCy, TextBlob, bs4,\n",
    "OpenCV\n",
    "projects\n",
    "INFORMATION RETRIEVAL SYSTEM USING DEEP\n",
    "LEARNING TECHNIQUES\n",
    "TECHNOLOGIES: Python, Pandas, NumPy, MatplotliB,\n",
    "Word2Vec, Doc2Vec\n",
    "This was done as part of M.Tech. Final Year dissertation\n",
    "where in i explored the usage of Deep Learning Techniques\n",
    "like word and doc embeddings to retrieve the similar\n",
    "information.\n",
    "AUTOMATIC QUESTION GENERATION SYSTEM -\n",
    "HINDI\n",
    "TECHNOLOGIES: Python, Flask, PHP CodeIgnter, Bootstarp,\n",
    "This was done as part of company Project in collaboration\n",
    "CIFILT, IIT Bombay and MIT Boston. This was an Web\n",
    "Application in EduTech to test the competency of the\n",
    "student in the Indian Language. We use Hindi Shabdmitra\n",
    "as a knowledge base for the application.\n",
    "AUTOMATIC QUESTION GENERATION SYSTEM -\n",
    "ENGLISH\n",
    "TECHNOLOGIES: Python, Flask, PHP CodeIgnter, Bootstarp,\n",
    "This was done as part of company Project in collaboration\n",
    "MIT Boston. This was an Web Application in EduTech to\n",
    "test the competency of the student in the English Language.\n",
    "other postions\n",
    "IT COMMITTEE MEMBERGoa Chamber of Commerce & Industry (GCCI) IT COMMITTEE MEMBER IT COMMITTEE MEMBER IT COMMITTEE MEMBER IT COMMITTEE MEMBER IT COMMITTEE MEMBER IT COMMITTEE MEMBER IT COMMITTEE MEMBER IT COMMITTEE MEMBER IT COMMITTEE MEMBER IT COMMITTEE MEMBER IT COMMITTEE MEMBER IT COMMITTEE MEMBER IT COMMITTEE MEMBER IT COMMITTEE MEMBER IT COMMITTEE MEMBER IT COMMITTEE MEMBER IT COMMITTEE MEMBER IT COMMITTEE MEMBER IT COMMITTEE MEMBER IT COMMITTEE MEMBER IT COMMITTEE MEMBER IT COMMITTEE MEMBER IT COMMITTEE MEMBER IT COMMITTEE MEMBER IT COMMITTEE MEMBER IT COMMITTEE MEMBER IT COMMITTEE MEMBER IT COMMITTEE MEMBER IT COMMITTEE MEMBER IT COMMITTEE MEMBER IT COMMITTEE MEMBER IT COMMITTEE MEMBER IT COMMITTEE MEMBER IT COMMITTEE MEMBER IT COMMITTEE MEMBER IT COMMITTEE MEMBER TheKode.Biz | Mumbai Based AI, ITes CompanyLEAD DATA SCIENTIST (ADVISORY BOARD) LEAD DATA SCIENTIST (ADVISORY BOARD) LEAD DATA SCIENTIST (ADVISORY BOARD) LEAD DATA SCIENTIST (ADVISORY BOARD) LEAD DATA SCIENTIST (ADVISORY BOARD) LEAD DATA SCIENTIST (ADVISORY BOARD) LEAD DATA SCIENTIST (ADVISORY BOARD) LEAD DATA SCIENTIST (ADVISORY BOARD) LEAD DATA SCIENTIST (ADVISORY BOARD) LEAD DATA SCIENTIST (ADVISORY BOARD) LEAD DATA SCIENTIST (ADVISORY BOARD) LEAD DATA SCIENTIST (ADVISORY BOARD) LEAD DATA SCIENTIST (ADVISORY BOARD) LEAD DATA SCIENTIST (ADVISORY BOARD) LEAD DATA SCIENTIST (ADVISORY BOARD) LEAD DATA SCIENTIST (ADVISORY BOARD) LEAD DATA SCIENTIST (ADVISORY BOARD) LEAD DATA SCIENTIST (ADVISORY BOARD) LEAD DATA SCIENTIST (ADVISORY BOARD) LEAD DATA SCIENTIST (ADVISORY BOARD) LEAD DATA SCIENTIST (ADVISORY BOARD) LEAD DATA SCIENTIST (ADVISORY BOARD) LEAD DATA SCIENTIST (ADVISORY BOARD) LEAD DATA SCIENTIST (ADVISORY BOARD) Tripytoe | Goan Travel Tech StartupCHIEF TECHNOLOGY OFFICER CHIEF TECHNOLOGY OFFICER CHIEF TECHNOLOGY OFFICER CHIEF TECHNOLOGY OFFICER CHIEF TECHNOLOGY OFFICER CHIEF TECHNOLOGY OFFICER CHIEF TECHNOLOGY OFFICER CHIEF TECHNOLOGY OFFICER CHIEF TECHNOLOGY OFFICER CHIEF TECHNOLOGY OFFICER CHIEF TECHNOLOGY OFFICER CHIEF TECHNOLOGY OFFICER Goan Narrative | Digital News PlatformCHIEF\n",
    "\"\"\"\n",
    "\n",
    "# Extract keywords\n",
    "keywords = model.extract_keywords(text)\n",
    "\n",
    "# Print the keywords\n",
    "print(\"Keywords:\")\n",
    "for keyword in keywords:\n",
    "    print(keyword)"
   ]
  },
  {
   "cell_type": "code",
   "execution_count": null,
   "metadata": {},
   "outputs": [],
   "source": []
  },
  {
   "cell_type": "code",
   "execution_count": null,
   "metadata": {},
   "outputs": [],
   "source": []
  },
  {
   "cell_type": "code",
   "execution_count": null,
   "metadata": {},
   "outputs": [],
   "source": []
  }
 ],
 "metadata": {
  "kernelspec": {
   "display_name": "tf",
   "language": "python",
   "name": "python3"
  },
  "language_info": {
   "codemirror_mode": {
    "name": "ipython",
    "version": 3
   },
   "file_extension": ".py",
   "mimetype": "text/x-python",
   "name": "python",
   "nbconvert_exporter": "python",
   "pygments_lexer": "ipython3",
   "version": "3.9.19"
  }
 },
 "nbformat": 4,
 "nbformat_minor": 2
}
